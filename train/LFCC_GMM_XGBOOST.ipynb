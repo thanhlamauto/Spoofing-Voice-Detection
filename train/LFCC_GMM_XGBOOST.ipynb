{
  "cells": [
    {
      "cell_type": "code",
      "execution_count": null,
      "metadata": {
        "id": "fL7BQSiHrfy6"
      },
      "outputs": [],
      "source": [
        "# !mkdir -p ~/.kaggle\n",
        "# !cp kaggle.json ~/.kaggle/\n",
        "# !chmod 600 /content/kaggle.json"
      ]
    },
    {
      "cell_type": "code",
      "execution_count": null,
      "metadata": {
        "colab": {
          "base_uri": "https://localhost:8080/"
        },
        "id": "q6fayKZErsVD",
        "outputId": "ad26b972-a904-4072-9d61-52e3e4e11fd3"
      },
      "outputs": [
        {
          "name": "stdout",
          "output_type": "stream",
          "text": [
            "Warning: Your Kaggle API key is readable by other users on this system! To fix this, you can run 'chmod 600 /root/.kaggle/kaggle.json'\n",
            "Dataset URL: https://www.kaggle.com/datasets/ronanhansel/librisevoc-1k\n",
            "License(s): apache-2.0\n",
            "Downloading librisevoc-1k.zip to /content/LibriSeVoc\n",
            " 99% 3.15G/3.17G [00:34<00:00, 243MB/s]\n",
            "100% 3.17G/3.17G [00:34<00:00, 97.7MB/s]\n"
          ]
        }
      ],
      "source": [
        "# !kaggle datasets download -d ronanhansel/librisevoc-1k -p /content/LibriSeVoc --unzip"
      ]
    },
    {
      "cell_type": "code",
      "execution_count": null,
      "metadata": {
        "colab": {
          "base_uri": "https://localhost:8080/"
        },
        "id": "SET_GC2jrwIV",
        "outputId": "20d78ce2-4011-4114-b8f3-1db9adf15c2b"
      },
      "outputs": [
        {
          "name": "stdout",
          "output_type": "stream",
          "text": [
            "Processing: wavernn\n"
          ]
        },
        {
          "name": "stderr",
          "output_type": "stream",
          "text": [
            "Moving to train: 100%|██████████| 800/800 [00:00<00:00, 20370.96it/s]\n",
            "Moving to test: 100%|██████████| 200/200 [00:00<00:00, 16346.33it/s]\n"
          ]
        },
        {
          "name": "stdout",
          "output_type": "stream",
          "text": [
            "Processing: gt\n"
          ]
        },
        {
          "name": "stderr",
          "output_type": "stream",
          "text": [
            "Moving to train: 100%|██████████| 800/800 [00:00<00:00, 23181.44it/s]\n",
            "Moving to test: 100%|██████████| 200/200 [00:00<00:00, 22216.77it/s]\n"
          ]
        },
        {
          "name": "stdout",
          "output_type": "stream",
          "text": [
            "Processing: wavegrad\n"
          ]
        },
        {
          "name": "stderr",
          "output_type": "stream",
          "text": [
            "Moving to train: 100%|██████████| 800/800 [00:00<00:00, 21224.89it/s]\n",
            "Moving to test: 100%|██████████| 200/200 [00:00<00:00, 15985.91it/s]\n"
          ]
        },
        {
          "name": "stdout",
          "output_type": "stream",
          "text": [
            "Processing: wavenet\n"
          ]
        },
        {
          "name": "stderr",
          "output_type": "stream",
          "text": [
            "Moving to train: 100%|██████████| 800/800 [00:00<00:00, 22863.32it/s]\n",
            "Moving to test: 100%|██████████| 200/200 [00:00<00:00, 21347.23it/s]\n"
          ]
        },
        {
          "name": "stdout",
          "output_type": "stream",
          "text": [
            "Processing: melgan\n"
          ]
        },
        {
          "name": "stderr",
          "output_type": "stream",
          "text": [
            "Moving to train: 100%|██████████| 800/800 [00:00<00:00, 18075.20it/s]\n",
            "Moving to test: 100%|██████████| 200/200 [00:00<00:00, 18853.35it/s]\n"
          ]
        },
        {
          "name": "stdout",
          "output_type": "stream",
          "text": [
            "Processing: parallel_wave_gan\n"
          ]
        },
        {
          "name": "stderr",
          "output_type": "stream",
          "text": [
            "Moving to train: 100%|██████████| 800/800 [00:00<00:00, 27299.56it/s]\n",
            "Moving to test: 100%|██████████| 200/200 [00:00<00:00, 34477.04it/s]\n"
          ]
        },
        {
          "name": "stdout",
          "output_type": "stream",
          "text": [
            "Processing: diffwave\n"
          ]
        },
        {
          "name": "stderr",
          "output_type": "stream",
          "text": [
            "Moving to train: 100%|██████████| 800/800 [00:00<00:00, 32103.67it/s]\n",
            "Moving to test: 100%|██████████| 200/200 [00:00<00:00, 28337.02it/s]"
          ]
        },
        {
          "name": "stdout",
          "output_type": "stream",
          "text": [
            "✅ Train-test split completed.\n"
          ]
        },
        {
          "name": "stderr",
          "output_type": "stream",
          "text": [
            "\n"
          ]
        }
      ],
      "source": [
        "import os\n",
        "import shutil\n",
        "import random\n",
        "from tqdm import tqdm\n",
        "\n",
        "def train_test_split_dataset(root_dir, split_ratio=0.8, seed=42):\n",
        "    random.seed(seed)\n",
        "\n",
        "    for class_folder in os.listdir(root_dir):\n",
        "        class_path = os.path.join(root_dir, class_folder)\n",
        "        if not os.path.isdir(class_path):\n",
        "            continue\n",
        "\n",
        "        print(f\"Processing: {class_folder}\")\n",
        "        files = [f for f in os.listdir(class_path) if f.endswith(\".wav\")]\n",
        "        random.shuffle(files)\n",
        "\n",
        "        split_idx = int(len(files) * split_ratio)\n",
        "        train_files = files[:split_idx]\n",
        "        test_files = files[split_idx:]\n",
        "\n",
        "        train_dir = os.path.join(class_path, \"train\")\n",
        "        test_dir = os.path.join(class_path, \"test\")\n",
        "        os.makedirs(train_dir, exist_ok=True)\n",
        "        os.makedirs(test_dir, exist_ok=True)\n",
        "\n",
        "        for f in tqdm(train_files, desc=\"Moving to train\"):\n",
        "            shutil.move(os.path.join(class_path, f), os.path.join(train_dir, f))\n",
        "\n",
        "        for f in tqdm(test_files, desc=\"Moving to test\"):\n",
        "            shutil.move(os.path.join(class_path, f), os.path.join(test_dir, f))\n",
        "\n",
        "    print(\"✅ Train-test split completed.\")\n",
        "\n",
        "train_test_split_dataset(\"/content/LibriSeVoc/LibriSeVoc-1k\", split_ratio=0.8)\n"
      ]
    },
    {
      "cell_type": "code",
      "execution_count": null,
      "metadata": {
        "id": "n88TEFqMry6_"
      },
      "outputs": [],
      "source": [
        "DATA_PATH = '/content/LibriSeVoc/LibriSeVoc-1k'\n",
        "\n",
        "class_dict = {\n",
        "    'gt': 0,\n",
        "    'wavenet': 1,\n",
        "    'wavernn': 1,\n",
        "    'melgan': 1,\n",
        "    'parallel_wave_gan': 1,\n",
        "    'diffwave': 1,\n",
        "    'wavegrad': 1\n",
        "}\n",
        "\n",
        "\n",
        "num_classes = len(class_dict)"
      ]
    },
    {
      "cell_type": "markdown",
      "metadata": {
        "id": "HD2IIoBIsrd1"
      },
      "source": [
        "# FEATURE EXTRACTOR"
      ]
    },
    {
      "cell_type": "code",
      "execution_count": null,
      "metadata": {
        "id": "ZoBDyR8jsyVG"
      },
      "outputs": [],
      "source": [
        "import numpy as np\n",
        "import librosa\n",
        "import os\n",
        "import soundfile as sf\n",
        "from sklearn.preprocessing import normalize\n",
        "import os\n",
        "import pandas as pd\n",
        "import random\n",
        "from tqdm import tqdm\n",
        "import torchaudio\n",
        "import torch\n",
        "from torch.utils.data import Dataset\n"
      ]
    },
    {
      "cell_type": "code",
      "execution_count": null,
      "metadata": {
        "id": "SZD6WlpmwuiC"
      },
      "outputs": [],
      "source": [
        "frame_length=0.025\n",
        "frame_shift=0.010\n",
        "sample_rate=24000\n",
        "n_lfcc=20\n",
        "\n",
        "def pre_emphasis(signal, coeff=0.97):\n",
        "    return np.append(signal[0], signal[1:] - coeff * signal[:-1])\n",
        "\n",
        "def peak_normalize(signal):\n",
        "    return signal / np.max(np.abs(signal))\n",
        "\n",
        "def add_noise(signal, noise_level=0.005):\n",
        "    noise = np.random.normal(0, noise_level, signal.shape)\n",
        "    return signal + noise\n",
        "\n",
        "def chunk_signal(signal, sr, frame_length=frame_length, frame_shift=frame_shift):\n",
        "    frame_len = int(frame_length * sr)\n",
        "    hop_len = int(frame_shift * sr)\n",
        "    frames = librosa.util.frame(signal, frame_length=frame_len, hop_length=hop_len).T\n",
        "    return frames\n",
        "\n",
        "lfcc_transform = torchaudio.transforms.LFCC(\n",
        "    sample_rate=sample_rate,\n",
        "    n_lfcc=n_lfcc,\n",
        "    speckwargs={\"n_fft\": 1048, \"hop_length\": int(sample_rate * frame_length) + 1, \"win_length\": int(sample_rate * frame_length)},\n",
        "    log_lf=True\n",
        ")\n",
        "\n",
        "def extract_lfcc(frame, sr = 24000):\n",
        "    waveform = torch.tensor(frame).float().unsqueeze(0)\n",
        "    lfcc = lfcc_transform(waveform)\n",
        "    return lfcc.squeeze(0).T.numpy()\n"
      ]
    },
    {
      "cell_type": "code",
      "execution_count": null,
      "metadata": {
        "id": "ySZH-XTCw40d"
      },
      "outputs": [],
      "source": [
        "import numpy as np\n",
        "import os\n",
        "from sklearn.linear_model import LogisticRegression\n",
        "from sklearn.metrics import accuracy_score, roc_auc_score\n",
        "from tqdm import tqdm\n",
        "\n",
        "import joblib\n",
        "from scipy.stats import skew, kurtosis"
      ]
    },
    {
      "cell_type": "code",
      "execution_count": null,
      "metadata": {
        "colab": {
          "base_uri": "https://localhost:8080/"
        },
        "id": "BVrqwQ1kxELk",
        "outputId": "7d9f3a4d-60a7-4ce8-8ee1-5e0c3cc3eac1"
      },
      "outputs": [
        {
          "name": "stderr",
          "output_type": "stream",
          "text": [
            "/usr/local/lib/python3.11/dist-packages/sklearn/base.py:380: InconsistentVersionWarning: Trying to unpickle estimator GaussianMixture from version 1.2.2 when using version 1.6.1. This might lead to breaking code or invalid results. Use at your own risk. For more info please refer to:\n",
            "https://scikit-learn.org/stable/model_persistence.html#security-maintainability-limitations\n",
            "  warnings.warn(\n"
          ]
        }
      ],
      "source": [
        "GMMs = {\n",
        "    \"groundtruth\": joblib.load(\"/content/drive/MyDrive/IntroAIProject/model/gmm_model_ground-truth.pkl\"),\n",
        "    \"autoregressive\": joblib.load(\"/content/drive/MyDrive/IntroAIProject/model/gmm_model_autoregressive.pkl\"),\n",
        "    \"gan-based\": joblib.load(\"/content/drive/MyDrive/IntroAIProject/model/gmm_model_gan-based.pkl\"),\n",
        "    \"diffusion-based\": joblib.load(\"/content/drive/MyDrive/IntroAIProject/model/gmm_model_diffusion-based.pkl\"),\n",
        "}"
      ]
    },
    {
      "cell_type": "code",
      "execution_count": null,
      "metadata": {
        "id": "o4FEQ3nixGD_"
      },
      "outputs": [],
      "source": [
        "def extract_gmm_scores(file_path, gmms, sr=24000):\n",
        "    import librosa\n",
        "\n",
        "    y, sr = librosa.load(file_path, sr=sr)\n",
        "    y = peak_normalize(pre_emphasis(y))\n",
        "    y = add_noise(y, noise_level=0.005)\n",
        "    frames = chunk_signal(y, sr)\n",
        "\n",
        "    gmm_scores = {}\n",
        "    for gmm_name in GMMs.keys():\n",
        "        gmm_scores[gmm_name] = []\n",
        "\n",
        "    for frame in frames:\n",
        "        if np.any(frame):\n",
        "            for gmm_name, gmm in gmms.items():\n",
        "                lfcc = extract_lfcc(frame, sr)\n",
        "                logL = gmm.score_samples(lfcc)\n",
        "                gmm_scores[gmm_name].append(logL)\n",
        "    feature = []\n",
        "    for gmm_name in GMMs.keys():\n",
        "        scores = gmm_scores[gmm_name]\n",
        "        feature.extend([\n",
        "            np.mean(scores),\n",
        "            np.std(scores),\n",
        "            skew(scores)[0],\n",
        "            kurtosis(scores)[0],\n",
        "            np.min(scores),\n",
        "            np.max(scores),\n",
        "            np.percentile(scores, 25),\n",
        "            np.percentile(scores, 75)\n",
        "        ])\n",
        "\n",
        "    return np.array(feature)"
      ]
    },
    {
      "cell_type": "markdown",
      "metadata": {
        "id": "qEyNgrLPxgM0"
      },
      "source": [
        "# DATALOADER"
      ]
    },
    {
      "cell_type": "code",
      "execution_count": null,
      "metadata": {
        "id": "6OHctRIDxk1J"
      },
      "outputs": [],
      "source": [
        "class VoiceDataset(Dataset):\n",
        "    def __init__(self, file_list, sample_rate=16000, mode='train', mel_transform=None):\n",
        "        self.file_list = file_list\n",
        "        self.sample_rate = sample_rate\n",
        "        self.mode = mode\n",
        "        self.mel_transform = mel_transform\n",
        "\n",
        "    def __len__(self):\n",
        "        return len(self.file_list)\n",
        "\n",
        "    def __getitem__(self, idx):\n",
        "        path, label = self.file_list[idx]\n",
        "        return extract_gmm_scores(path, GMMs), torch.tensor(label, dtype=torch.float32)\n"
      ]
    },
    {
      "cell_type": "code",
      "execution_count": null,
      "metadata": {
        "id": "BB1tkQNJyBnn"
      },
      "outputs": [],
      "source": [
        "def get_datasets(root_dir, fake_folders, sample_rate=16000):\n",
        "    train_list_fake = []\n",
        "    train_list_real = []\n",
        "    test_list_fake = []\n",
        "    test_list_real = []\n",
        "\n",
        "    test_size = 200\n",
        "    train_size = 800\n",
        "\n",
        "    for folder in ['gt'] + fake_folders:\n",
        "        for split in ['train', 'test']:\n",
        "            path = os.path.join(root_dir, folder, split)\n",
        "            label = class_dict[folder]\n",
        "            for file in os.listdir(path):\n",
        "                if file.endswith(\".wav\"):\n",
        "                    full_path = os.path.join(path, file)\n",
        "                    if split == 'train':\n",
        "                        if label == 1:\n",
        "                            train_list_fake.append((full_path, label))\n",
        "                        else:\n",
        "                            train_list_real.append((full_path, label))\n",
        "                    else:\n",
        "                        if label == 1:\n",
        "                            test_list_fake.append((full_path, label))\n",
        "                        else:\n",
        "                            test_list_real.append((full_path, label))\n",
        "\n",
        "    mel_transform = torchaudio.transforms.MelSpectrogram(\n",
        "        sample_rate=sample_rate,\n",
        "        n_fft=2048,\n",
        "        hop_length=512,\n",
        "        n_mels=128\n",
        "    )\n",
        "\n",
        "    random.shuffle(train_list_fake)\n",
        "    random.shuffle(test_list_fake)\n",
        "    train_dataset = VoiceDataset(train_list_fake[:train_size] + train_list_real[:train_size], sample_rate=sample_rate, mode='train', mel_transform=mel_transform)\n",
        "    test_dataset = VoiceDataset(test_list_fake[:test_size] + test_list_real[:test_size], sample_rate=sample_rate, mode='test', mel_transform=mel_transform)\n",
        "\n",
        "    return train_dataset, test_dataset\n"
      ]
    },
    {
      "cell_type": "code",
      "execution_count": null,
      "metadata": {
        "colab": {
          "base_uri": "https://localhost:8080/"
        },
        "id": "86gRQ-P6yLVB",
        "outputId": "6b8c0a73-1e84-4e4d-c21c-aa072139b999"
      },
      "outputs": [
        {
          "name": "stderr",
          "output_type": "stream",
          "text": [
            "Processing train data: 100%|██████████| 1600/1600 [1:52:29<00:00,  4.22s/it]\n",
            "Processing test data: 100%|██████████| 400/400 [28:05<00:00,  4.21s/it]"
          ]
        },
        {
          "name": "stdout",
          "output_type": "stream",
          "text": [
            "Train features and labels saved to /content/drive/MyDrive/IntroAIProject/smallsize_test/train_features.npy and /content/drive/MyDrive/IntroAIProject/smallsize_test/train_labels.npy\n",
            "Test features and labels saved to /content/drive/MyDrive/IntroAIProject/smallsize_test/test_features.npy and /content/drive/MyDrive/IntroAIProject/smallsize_test/test_labels.npy\n"
          ]
        },
        {
          "name": "stderr",
          "output_type": "stream",
          "text": [
            "\n"
          ]
        }
      ],
      "source": [
        "import numpy as np\n",
        "from torch.utils.data import DataLoader\n",
        "import os\n",
        "import torch\n",
        "\n",
        "fake_folders = [folder for folder, label in class_dict.items() if label == 1]\n",
        "\n",
        "train_dataset, test_dataset = get_datasets(DATA_PATH, fake_folders, sample_rate=24000)\n",
        "\n",
        "# Create DataLoaders (batch size 1 to get individual features and labels)\n",
        "train_dataloader = DataLoader(train_dataset, batch_size=1, shuffle=False)\n",
        "test_dataloader = DataLoader(test_dataset, batch_size=1, shuffle=False)\n",
        "\n",
        "# Extract features and labels from DataLoaders\n",
        "train_features = []\n",
        "train_labels = []\n",
        "for features, labels in tqdm(train_dataloader, desc=\"Processing train data\"):\n",
        "    train_features.append(features.squeeze().numpy())\n",
        "    train_labels.append(labels.squeeze().numpy())\n",
        "\n",
        "test_features = []\n",
        "test_labels = []\n",
        "for features, labels in tqdm(test_dataloader, desc=\"Processing test data\"):\n",
        "    test_features.append(features.squeeze().numpy())\n",
        "    test_labels.append(labels.squeeze().numpy())\n",
        "\n",
        "# Convert lists to numpy arrays\n",
        "train_features = np.array(train_features)\n",
        "train_labels = np.array(train_labels)\n",
        "test_features = np.array(test_features)\n",
        "test_labels = np.array(test_labels)\n",
        "\n",
        "# Define the directory to save the files\n",
        "save_dir = '/content/drive/MyDrive/IntroAIProject/smallsize_test'\n",
        "os.makedirs(save_dir, exist_ok=True)\n",
        "\n",
        "# Save the feature and label arrays\n",
        "np.save(os.path.join(save_dir, 'train_features.npy'), train_features)\n",
        "np.save(os.path.join(save_dir, 'train_labels.npy'), train_labels)\n",
        "np.save(os.path.join(save_dir, 'test_features.npy'), test_features)\n",
        "np.save(os.path.join(save_dir, 'test_labels.npy'), test_labels)\n",
        "\n",
        "print(f\"Train features and labels saved to {os.path.join(save_dir, 'train  _features.npy')} and {os.path.join(save_dir, 'train_labels.npy')}\")\n",
        "print(f\"Test features and labels saved to {os.path.join(save_dir, 'test_features.npy')} and {os.path.join(save_dir, 'test_labels.npy')}\")\n"
      ]
    },
    {
      "cell_type": "markdown",
      "metadata": {
        "id": "KBGwYuxdxSV3"
      },
      "source": [
        "# CLASSIFIER"
      ]
    },
    {
      "cell_type": "code",
      "execution_count": null,
      "metadata": {
        "colab": {
          "base_uri": "https://localhost:8080/",
          "height": 1000
        },
        "id": "47z28_opy478",
        "outputId": "e66f2715-6b69-47af-9808-f10efa172660"
      },
      "outputs": [
        {
          "name": "stdout",
          "output_type": "stream",
          "text": [
            "Requirement already satisfied: xgboost in /usr/local/lib/python3.11/dist-packages (2.1.4)\n",
            "Requirement already satisfied: numpy in /usr/local/lib/python3.11/dist-packages (from xgboost) (2.0.2)\n",
            "Requirement already satisfied: nvidia-nccl-cu12 in /usr/local/lib/python3.11/dist-packages (from xgboost) (2.21.5)\n",
            "Requirement already satisfied: scipy in /usr/local/lib/python3.11/dist-packages (from xgboost) (1.15.3)\n",
            "Loaded train and test data for classification.\n",
            "Train data shape: (1600, 32), (1600,)\n",
            "Test data shape: (400, 32), (400,)\n",
            "Training XGBoost classifier...\n"
          ]
        },
        {
          "name": "stderr",
          "output_type": "stream",
          "text": [
            "/usr/local/lib/python3.11/dist-packages/xgboost/core.py:158: UserWarning: [17:25:14] WARNING: /workspace/src/learner.cc:740: \n",
            "Parameters: { \"use_label_encoder\" } are not used.\n",
            "\n",
            "  warnings.warn(smsg, UserWarning)\n"
          ]
        },
        {
          "name": "stdout",
          "output_type": "stream",
          "text": [
            "✅ XGBoost classifier trained.\n",
            "Making predictions on the test set...\n",
            "✅ Predictions made.\n",
            "\n",
            "--- XGBoost Classifier Evaluation ---\n",
            "Accuracy: 0.8275\n",
            "ROC AUC: 0.9157\n",
            "\n",
            "Classification Report:\n",
            "              precision    recall  f1-score   support\n",
            "\n",
            "         0.0       0.82      0.84      0.83       200\n",
            "         1.0       0.84      0.81      0.82       200\n",
            "\n",
            "    accuracy                           0.83       400\n",
            "   macro avg       0.83      0.83      0.83       400\n",
            "weighted avg       0.83      0.83      0.83       400\n",
            "\n"
          ]
        },
        {
          "data": {
            "image/png": "[encoded data removed]",
            "text/plain": [
              "<Figure size 800x600 with 2 Axes>"
            ]
          },
          "metadata": {},
          "output_type": "display_data"
        }
      ],
      "source": [
        "\n",
        "import numpy as np\n",
        "from xgboost import XGBClassifier\n",
        "from sklearn.metrics import accuracy_score, roc_auc_score, classification_report, confusion_matrix\n",
        "import matplotlib.pyplot as plt\n",
        "import seaborn as sns\n",
        "\n",
        "# Load the saved features and labels\n",
        "train_features = np.load(os.path.join(save_dir, 'train_features.npy'))\n",
        "train_labels = np.load(os.path.join(save_dir, 'train_labels.npy'))\n",
        "test_features = np.load(os.path.join(save_dir, 'test_features.npy'))\n",
        "test_labels = np.load(os.path.join(save_dir, 'test_labels.npy'))\n",
        "\n",
        "print(\"Loaded train and test data for classification.\")\n",
        "print(f\"Train data shape: {train_features.shape}, {train_labels.shape}\")\n",
        "print(f\"Test data shape: {test_features.shape}, {test_labels.shape}\")\n",
        "\n",
        "# Initialize the XGBoost classifier\n",
        "xgb_clf = XGBClassifier(use_label_encoder=False, eval_metric='logloss', random_state=42)\n",
        "\n",
        "# Train the classifier\n",
        "print(\"Training XGBoost classifier...\")\n",
        "xgb_clf.fit(train_features, train_labels)\n",
        "print(\"✅ XGBoost classifier trained.\")\n",
        "\n",
        "# Make predictions on the test set\n",
        "print(\"Making predictions on the test set...\")\n",
        "test_predictions = xgb_clf.predict(test_features)\n",
        "test_probabilities = xgb_clf.predict_proba(test_features)[:, 1] # Get probabilities for the positive class\n",
        "print(\"✅ Predictions made.\")\n",
        "\n",
        "# Evaluate the classifier\n",
        "accuracy = accuracy_score(test_labels, test_predictions)\n",
        "roc_auc = roc_auc_score(test_labels, test_probabilities)\n",
        "class_report = classification_report(test_labels, test_predictions)\n",
        "conf_mat = confusion_matrix(test_labels, test_predictions)\n",
        "\n",
        "print(\"\\n--- XGBoost Classifier Evaluation ---\")\n",
        "print(f\"Accuracy: {accuracy:.4f}\")\n",
        "print(f\"ROC AUC: {roc_auc:.4f}\")\n",
        "print(\"\\nClassification Report:\")\n",
        "print(class_report)\n",
        "\n",
        "# Plot the confusion matrix\n",
        "plt.figure(figsize=(8, 6))\n",
        "sns.heatmap(conf_mat, annot=True, fmt='d', cmap='Blues', xticklabels=['Ground Truth', 'Fake'], yticklabels=['Ground Truth', 'Fake'])\n",
        "plt.xlabel('Predicted Label')\n",
        "plt.ylabel('True Label')\n",
        "plt.title('Confusion Matrix')\n",
        "plt.show()"
      ]
    },
    {
      "cell_type": "code",
      "execution_count": null,
      "metadata": {
        "colab": {
          "base_uri": "https://localhost:8080/",
          "height": 1000
        },
        "id": "xhQgFaP_vCZC",
        "outputId": "4f952f68-caf9-47d8-8ecd-004f10275cda"
      },
      "outputs": [
        {
          "name": "stdout",
          "output_type": "stream",
          "text": [
            "Loaded train and test data for classification.\n",
            "Train data shape: (1600, 32), (1600,)\n",
            "Test data shape: (400, 32), (400,)\n",
            "Performing Grid Search...\n",
            "Fitting 3 folds for each of 540 candidates, totalling 1620 fits\n"
          ]
        },
        {
          "name": "stderr",
          "output_type": "stream",
          "text": [
            "/usr/local/lib/python3.11/dist-packages/xgboost/core.py:158: UserWarning: [17:56:23] WARNING: /workspace/src/learner.cc:740: \n",
            "Parameters: { \"use_label_encoder\" } are not used.\n",
            "\n",
            "  warnings.warn(smsg, UserWarning)\n"
          ]
        },
        {
          "name": "stdout",
          "output_type": "stream",
          "text": [
            "✅ Grid Search completed.\n",
            "Best Parameters: {'colsample_bytree': 0.8, 'learning_rate': 0.1, 'max_depth': 5, 'n_estimators': 150, 'subsample': 0.8}\n",
            "Best ROC AUC Score on training set: 0.8943\n",
            "\n",
            "--- Evaluation of Best XGBoost Model ---\n",
            "Accuracy: 0.8500\n",
            "ROC AUC: 0.9244\n",
            "\n",
            "Classification Report:\n",
            "              precision    recall  f1-score   support\n",
            "\n",
            "         0.0       0.83      0.89      0.86       200\n",
            "         1.0       0.88      0.81      0.84       200\n",
            "\n",
            "    accuracy                           0.85       400\n",
            "   macro avg       0.85      0.85      0.85       400\n",
            "weighted avg       0.85      0.85      0.85       400\n",
            "\n"
          ]
        },
        {
          "data": {
            "image/png": "[encoded data removed]",
            "text/plain": [
              "<Figure size 800x600 with 2 Axes>"
            ]
          },
          "metadata": {},
          "output_type": "display_data"
        },
        {
          "name": "stdout",
          "output_type": "stream",
          "text": [
            "Best XGBoost model saved to /content/drive/MyDrive/IntroAIProject/smallsize_test/xgboost_best_model.pkl\n"
          ]
        }
      ],
      "source": [
        "import numpy as np\n",
        "import os\n",
        "import joblib\n",
        "from xgboost import XGBClassifier\n",
        "from sklearn.model_selection import GridSearchCV\n",
        "from sklearn.metrics import accuracy_score, roc_auc_score, classification_report, confusion_matrix\n",
        "import matplotlib.pyplot as plt\n",
        "import seaborn as sns\n",
        "\n",
        "# Load the saved features and labels\n",
        "train_features = np.load(os.path.join(save_dir, 'train_features.npy'))\n",
        "train_labels = np.load(os.path.join(save_dir, 'train_labels.npy'))\n",
        "test_features = np.load(os.path.join(save_dir, 'test_features.npy'))\n",
        "test_labels = np.load(os.path.join(save_dir, 'test_labels.npy'))\n",
        "\n",
        "print(\"Loaded train and test data for classification.\")\n",
        "print(f\"Train data shape: {train_features.shape}, {train_labels.shape}\")\n",
        "print(f\"Test data shape: {test_features.shape}, {test_labels.shape}\")\n",
        "\n",
        "# Define the parameter grid\n",
        "param_grid = {\n",
        "    'n_estimators': [100, 120, 150],\n",
        "    'max_depth': [4, 5, 6],\n",
        "    'learning_rate': [0.02, 0.05, 0.1],\n",
        "    'subsample': [0.8, 0.9],\n",
        "    'colsample_bytree': [0.8, 0.9]\n",
        "}\n",
        "# {'colsample_bytree': 0.8, 'learning_rate': 0.1, 'max_depth': 5, 'n_estimators': 150, 'subsample': 0.8}\n",
        "\n",
        "# Initialize the classifier\n",
        "xgb = XGBClassifier(use_label_encoder=False, eval_metric='logloss', random_state=42)\n",
        "\n",
        "# Perform Grid Search\n",
        "print(\"Performing Grid Search...\")\n",
        "grid_search = GridSearchCV(\n",
        "    estimator=xgb,\n",
        "    param_grid=param_grid,\n",
        "    scoring='roc_auc',\n",
        "    cv=3,  # 3-fold cross-validation\n",
        "    verbose=1,\n",
        "    n_jobs=-1\n",
        ")\n",
        "grid_search.fit(train_features, train_labels)\n",
        "\n",
        "print(\"✅ Grid Search completed.\")\n",
        "print(f\"Best Parameters: {grid_search.best_params_}\")\n",
        "print(f\"Best ROC AUC Score on training set: {grid_search.best_score_:.4f}\")\n",
        "\n",
        "# Use the best model to make predictions\n",
        "best_model = grid_search.best_estimator_\n",
        "test_predictions = best_model.predict(test_features)\n",
        "test_probabilities = best_model.predict_proba(test_features)[:, 1]\n",
        "\n",
        "# Evaluate\n",
        "accuracy = accuracy_score(test_labels, test_predictions)\n",
        "roc_auc = roc_auc_score(test_labels, test_probabilities)\n",
        "class_report = classification_report(test_labels, test_predictions)\n",
        "conf_mat = confusion_matrix(test_labels, test_predictions)\n",
        "\n",
        "print(\"\\n--- Evaluation of Best XGBoost Model ---\")\n",
        "print(f\"Accuracy: {accuracy:.4f}\")\n",
        "print(f\"ROC AUC: {roc_auc:.4f}\")\n",
        "print(\"\\nClassification Report:\")\n",
        "print(class_report)\n",
        "\n",
        "# Plot confusion matrix\n",
        "plt.figure(figsize=(8, 6))\n",
        "sns.heatmap(conf_mat, annot=True, fmt='d', cmap='Blues', xticklabels=['Ground Truth', 'Fake'], yticklabels=['Ground Truth', 'Fake'])\n",
        "plt.xlabel('Predicted Label')\n",
        "plt.ylabel('True Label')\n",
        "plt.title('Confusion Matrix')\n",
        "plt.show()\n",
        "\n",
        "\n"
      ]
    },
    {
      "cell_type": "code",
      "execution_count": null,
      "metadata": {
        "colab": {
          "base_uri": "https://localhost:8080/"
        },
        "id": "x80YavatzcZG",
        "outputId": "ddc13eb4-ce52-45a6-ee5e-47ceb1a7463a"
      },
      "outputs": [
        {
          "name": "stdout",
          "output_type": "stream",
          "text": [
            "Trained XGBoost model saved to /content/drive/MyDrive/IntroAIProject/xgboost_best_model.pkl\n"
          ]
        }
      ],
      "source": [
        "# Save the best model\n",
        "ckpt_path = '/content/drive/MyDrive/IntroAIProject'\n",
        "model_save_path = os.path.join(ckpt_path, 'xgboost_best_model.pkl')\n",
        "joblib.dump(best_model, model_save_path)\n",
        "print(f\"Trained XGBoost model saved to {model_save_path}\")\n"
      ]
    },
    {
      "cell_type": "markdown",
      "metadata": {
        "id": "3GgQUkz37E7l"
      },
      "source": [
        "# INFER"
      ]
    },
    {
      "cell_type": "code",
      "execution_count": null,
      "metadata": {
        "id": "0MJg11-78ENk"
      },
      "outputs": [],
      "source": [
        "import numpy as np\n",
        "import librosa\n",
        "import torch\n",
        "import os\n",
        "from sklearn.preprocessing import normalize\n",
        "import random\n",
        "from tqdm import tqdm\n",
        "import torchaudio\n"
      ]
    },
    {
      "cell_type": "code",
      "execution_count": null,
      "metadata": {
        "id": "ANd8KU5i8A5m"
      },
      "outputs": [],
      "source": [
        "frame_length=0.025\n",
        "frame_shift=0.010\n",
        "sample_rate=24000\n",
        "n_lfcc=20\n",
        "\n",
        "def pre_emphasis(signal, coeff=0.97):\n",
        "    return np.append(signal[0], signal[1:] - coeff * signal[:-1])\n",
        "\n",
        "def peak_normalize(signal):\n",
        "    return signal / np.max(np.abs(signal))\n",
        "\n",
        "def add_noise(signal, noise_level=0.005):\n",
        "    noise = np.random.normal(0, noise_level, signal.shape)\n",
        "    return signal + noise\n",
        "\n",
        "def chunk_signal(signal, sr, frame_length=frame_length, frame_shift=frame_shift):\n",
        "    frame_len = int(frame_length * sr)\n",
        "    hop_len = int(frame_shift * sr)\n",
        "    frames = librosa.util.frame(signal, frame_length=frame_len, hop_length=hop_len).T\n",
        "    return frames\n",
        "\n",
        "lfcc_transform = torchaudio.transforms.LFCC(\n",
        "    sample_rate=sample_rate,\n",
        "    n_lfcc=n_lfcc,\n",
        "    speckwargs={\"n_fft\": 1048, \"hop_length\": int(sample_rate * frame_length) + 1, \"win_length\": int(sample_rate * frame_length)},\n",
        "    log_lf=True\n",
        ")\n",
        "\n",
        "def extract_lfcc(frame, sr = 24000):\n",
        "    waveform = torch.tensor(frame).float().unsqueeze(0)\n",
        "    lfcc = lfcc_transform(waveform)\n",
        "    return lfcc.squeeze(0).T.numpy()\n"
      ]
    },
    {
      "cell_type": "code",
      "execution_count": null,
      "metadata": {
        "id": "UO2HLKBg75hj"
      },
      "outputs": [],
      "source": [
        "def extract_gmm_scores(file_path, gmms, sr=24000):\n",
        "\n",
        "    y, sr = librosa.load(file_path, sr=sr)\n",
        "    y = peak_normalize(pre_emphasis(y))\n",
        "    y = add_noise(y, noise_level=0.005)\n",
        "    frames = chunk_signal(y, sr)\n",
        "\n",
        "    gmm_scores = {}\n",
        "    for gmm_name in GMMs.keys():\n",
        "        gmm_scores[gmm_name] = []\n",
        "\n",
        "    for frame in frames:\n",
        "        if np.any(frame):\n",
        "            for gmm_name, gmm in gmms.items():\n",
        "                lfcc = extract_lfcc(frame, sr)\n",
        "                logL = gmm.score_samples(lfcc)\n",
        "                gmm_scores[gmm_name].append(logL)\n",
        "    feature = []\n",
        "    for gmm_name in GMMs.keys():\n",
        "        scores = gmm_scores[gmm_name]\n",
        "        feature.extend([\n",
        "            np.mean(scores),\n",
        "            np.std(scores),\n",
        "            skew(scores)[0],\n",
        "            kurtosis(scores)[0],\n",
        "            np.min(scores),\n",
        "            np.max(scores),\n",
        "            np.percentile(scores, 25),\n",
        "            np.percentile(scores, 75)\n",
        "        ])\n",
        "\n",
        "    return np.array(feature)"
      ]
    },
    {
      "cell_type": "code",
      "execution_count": null,
      "metadata": {
        "colab": {
          "base_uri": "https://localhost:8080/"
        },
        "id": "cYrzpJUb396i",
        "outputId": "d6cdece5-4a3b-43a5-d56d-b55d8ff8bd8e"
      },
      "outputs": [
        {
          "name": "stderr",
          "output_type": "stream",
          "text": [
            "/usr/local/lib/python3.11/dist-packages/sklearn/base.py:380: InconsistentVersionWarning: Trying to unpickle estimator GaussianMixture from version 1.2.2 when using version 1.6.1. This might lead to breaking code or invalid results. Use at your own risk. For more info please refer to:\n",
            "https://scikit-learn.org/stable/model_persistence.html#security-maintainability-limitations\n",
            "  warnings.warn(\n"
          ]
        },
        {
          "name": "stdout",
          "output_type": "stream",
          "text": [
            "Inference result for /content/LibriSeVoc/LibriSeVoc-1k/gt/test/3830_12529_000013_000004.wav: Ground Truth\n"
          ]
        }
      ],
      "source": [
        "def infer_voice_type(wave_path):\n",
        "    \"\"\"\n",
        "    Infers whether a given audio file is ground truth or fake using the trained XGBoost model.\n",
        "\n",
        "    Args:\n",
        "        wave_path (str): The file path to the input WAV audio file.\n",
        "\n",
        "    Returns:\n",
        "        str: \"Ground Truth\" if the model predicts 0, \"Fake\" if the model predicts 1.\n",
        "             Returns \"Error processing file\" if feature extraction fails.\n",
        "    \"\"\"\n",
        "\n",
        "    GMMs = {\n",
        "        \"groundtruth\": joblib.load(\"/content/drive/MyDrive/IntroAIProject/model/gmm_model_ground-truth.pkl\"),\n",
        "        \"autoregressive\": joblib.load(\"/content/drive/MyDrive/IntroAIProject/model/gmm_model_autoregressive.pkl\"),\n",
        "        \"gan-based\": joblib.load(\"/content/drive/MyDrive/IntroAIProject/model/gmm_model_gan-based.pkl\"),\n",
        "        \"diffusion-based\": joblib.load(\"/content/drive/MyDrive/IntroAIProject/model/gmm_model_diffusion-based.pkl\"),\n",
        "    }\n",
        "\n",
        "    model_path = '/content/drive/MyDrive/IntroAIProject/model/xgboost_best_model.pkl'\n",
        "\n",
        "    try:\n",
        "        # Check if the model file exists\n",
        "        if not os.path.exists(model_path):\n",
        "            return f\"Error: Model file not found at {model_path}\"\n",
        "\n",
        "        loaded_model = joblib.load(model_path)\n",
        "\n",
        "        # Extract features from the input wave file\n",
        "        features = extract_gmm_scores(wave_path, GMMs)\n",
        "\n",
        "        # The model expects a 2D array (even for a single sample)\n",
        "        features = features.reshape(1, -1)\n",
        "\n",
        "        # Make prediction\n",
        "        prediction = loaded_model.predict(features)[0]\n",
        "\n",
        "        # Interpret the prediction\n",
        "        if prediction == 0:\n",
        "            return \"Ground Truth\"\n",
        "        else:\n",
        "            return \"Fake\"\n",
        "\n",
        "    except Exception as e:\n",
        "        print(f\"An error occurred during inference: {e}\")\n",
        "        return \"Error processing file\"\n",
        "\n",
        "# Example usage:\n",
        "# Create a dummy wave file for testing\n",
        "# dummy_audio_data = np.random.randn(24000 * 5).astype(np.float32) # 5 seconds of random audio\n",
        "# dummy_wave_path = '/content/LibriSeVoc/LibriSeVoc-1k/gt/test/1737_142397_000031_000002.wav'\n",
        "# sf.write(dummy_wave_path, dummy_audio_data, 24000)\n",
        "\n",
        "# print(f\"Testing inference on dummy file: {dummy_wave_path}\")\n",
        "# result = infer_voice_type(dummy_wave_path)\n",
        "# print(f\"Inference result: {result}\")\n",
        "\n",
        "# You would replace dummy_wave_path with the actual path to the wave file you want to classify.\n",
        "# For example:\n",
        "actual_wave_path = '/content/LibriSeVoc/LibriSeVoc-1k/gt/test/3830_12529_000013_000004.wav'\n",
        "result = infer_voice_type(actual_wave_path)\n",
        "print(f\"Inference result for {actual_wave_path}: {result}\")\n",
        "\n",
        "# Clean up the dummy file\n",
        "# os.remove(dummy_wave_path)\n"
      ]
    }
  ],
  "metadata": {
    "colab": {
      "provenance": []
    },
    "kernelspec": {
      "display_name": "Python 3",
      "name": "python3"
    },
    "language_info": {
      "name": "python"
    }
  },
  "nbformat": 4,
  "nbformat_minor": 0
}
